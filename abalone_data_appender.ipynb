{
 "cells": [
  {
   "cell_type": "code",
   "execution_count": 9,
   "id": "0f7bf4b3",
   "metadata": {},
   "outputs": [],
   "source": [
    "import numpy as np\n",
    "import pandas as pd\n",
    "import sklearn\n",
    "import random"
   ]
  },
  {
   "cell_type": "code",
   "execution_count": 22,
   "id": "1aad24b2",
   "metadata": {},
   "outputs": [
    {
     "data": {
      "text/plain": [
       "0         M\n",
       "1     0.455\n",
       "2     0.365\n",
       "3     0.095\n",
       "4     0.514\n",
       "5    0.2245\n",
       "6     0.101\n",
       "7      0.15\n",
       "8        15\n",
       "Name: 0, dtype: object"
      ]
     },
     "execution_count": 22,
     "metadata": {},
     "output_type": "execute_result"
    }
   ],
   "source": [
    "df = pd.read_csv(\"data/abalone.data\", delimiter=\" \", header=None)\n",
    "\n",
    "df.iloc[0]"
   ]
  },
  {
   "cell_type": "code",
   "execution_count": 12,
   "id": "715be376",
   "metadata": {},
   "outputs": [],
   "source": [
    "# https://stackoverflow.com/questions/47006617/finding-max-min-value-of-individual-columns\n",
    "min_max_collection = df.agg(['min', 'max'])"
   ]
  },
  {
   "cell_type": "code",
   "execution_count": 26,
   "id": "bb5d6955",
   "metadata": {},
   "outputs": [],
   "source": [
    "# https://docs.python.org/3/library/random.html\n",
    "# https://www.geeksforgeeks.org/how-to-add-one-row-in-an-existing-pandas-dataframe/\n",
    "def generator(df, max_size):\n",
    "    for i in range(0, max_size):\n",
    "        rand_num = random.random()\n",
    "        single_result = []\n",
    "        if(rand_num < 0.5):\n",
    "            gender = 'F'\n",
    "        else:\n",
    "            gender = 'M'\n",
    "        single_result.append(gender)\n",
    "        for j in range(1, len(df.iloc[0])):\n",
    "            single_result.append(random.uniform(min_max_collection[j][0] * 0.55, min_max_collection[j][1] * 1.18))\n",
    "        df.loc[len(df.index)] = single_result\n",
    "    return df\n",
    "        \n",
    "new_df = generator(df, 50000)\n",
    "new_df.to_csv(\"data/mass_abalone.data\", sep=' ')"
   ]
  },
  {
   "cell_type": "code",
   "execution_count": null,
   "id": "a1b59299",
   "metadata": {},
   "outputs": [],
   "source": []
  }
 ],
 "metadata": {
  "kernelspec": {
   "display_name": "Python 3 (ipykernel)",
   "language": "python",
   "name": "python3"
  },
  "language_info": {
   "codemirror_mode": {
    "name": "ipython",
    "version": 3
   },
   "file_extension": ".py",
   "mimetype": "text/x-python",
   "name": "python",
   "nbconvert_exporter": "python",
   "pygments_lexer": "ipython3",
   "version": "3.11.2"
  }
 },
 "nbformat": 4,
 "nbformat_minor": 5
}
